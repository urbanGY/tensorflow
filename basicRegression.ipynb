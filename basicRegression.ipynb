{
 "cells": [
  {
   "cell_type": "code",
   "execution_count": 2,
   "metadata": {},
   "outputs": [],
   "source": [
    "import tensorflow as tf"
   ]
  },
  {
   "cell_type": "code",
   "execution_count": 50,
   "metadata": {},
   "outputs": [],
   "source": [
    "x = tf.placeholder(tf.float32, shape = [None])\n",
    "y = tf.placeholder(tf.float32, shape = [None])"
   ]
  },
  {
   "cell_type": "code",
   "execution_count": 43,
   "metadata": {},
   "outputs": [],
   "source": [
    "w = tf.Variable(tf.random_normal([1]), name = 'weight')\n",
    "b = tf.Variable(tf.random_normal([1]), name = 'bias')"
   ]
  },
  {
   "cell_type": "code",
   "execution_count": 51,
   "metadata": {},
   "outputs": [],
   "source": [
    "hypothesis = x * w + b"
   ]
  },
  {
   "cell_type": "code",
   "execution_count": 52,
   "metadata": {},
   "outputs": [],
   "source": [
    "cost = tf.reduce_mean(tf.square(hypothesis - y))"
   ]
  },
  {
   "cell_type": "code",
   "execution_count": 53,
   "metadata": {},
   "outputs": [],
   "source": [
    "optimizer = tf.train.GradientDescentOptimizer(learning_rate = 0.01)\n",
    "train = optimizer.minimize(cost)"
   ]
  },
  {
   "cell_type": "code",
   "execution_count": 54,
   "metadata": {},
   "outputs": [],
   "source": [
    "sess = tf.Session()"
   ]
  },
  {
   "cell_type": "code",
   "execution_count": 55,
   "metadata": {},
   "outputs": [],
   "source": [
    "sess.run(tf.global_variables_initializer())"
   ]
  },
  {
   "cell_type": "code",
   "execution_count": 56,
   "metadata": {},
   "outputs": [
    {
     "name": "stdout",
     "output_type": "stream",
     "text": [
      "step :  0 ,  cost :  13.439608 ,  w:  [0.17764501] ,  b:  [0.38020265]\n",
      "step :  20 ,  cost :  0.8875335 ,  w:  [1.0712848] ,  b:  [0.8313719]\n",
      "step :  40 ,  cost :  0.7926252 ,  w:  [1.053297] ,  b:  [0.96390754]\n",
      "step :  60 ,  cost :  0.7158327 ,  w:  [1.0141164] ,  b:  [1.0811642]\n",
      "step :  80 ,  cost :  0.6477246 ,  w:  [0.9766409] ,  b:  [1.1914004]\n",
      "step :  100 ,  cost :  0.5873141 ,  w:  [0.94133157] ,  b:  [1.2952152]\n",
      "step :  120 ,  cost :  0.53373134 ,  w:  [0.9080772] ,  b:  [1.3929875]\n",
      "step :  140 ,  cost :  0.48620462 ,  w:  [0.8767582] ,  b:  [1.485069]\n",
      "step :  160 ,  cost :  0.44404942 ,  w:  [0.84726226] ,  b:  [1.5717907]\n",
      "step :  180 ,  cost :  0.40665877 ,  w:  [0.8194831] ,  b:  [1.6534649]\n",
      "step :  200 ,  cost :  0.37349412 ,  w:  [0.7933209] ,  b:  [1.7303852]\n",
      "step :  220 ,  cost :  0.344078 ,  w:  [0.7686814] ,  b:  [1.8028281]\n",
      "step :  240 ,  cost :  0.3179862 ,  w:  [0.745476] ,  b:  [1.8710548]\n",
      "step :  260 ,  cost :  0.29484358 ,  w:  [0.72362137] ,  b:  [1.93531]\n",
      "step :  280 ,  cost :  0.27431673 ,  w:  [0.7030388] ,  b:  [1.9958253]\n",
      "step :  300 ,  cost :  0.25610968 ,  w:  [0.68365425] ,  b:  [2.0528183]\n",
      "step :  320 ,  cost :  0.23996042 ,  w:  [0.6653979] ,  b:  [2.1064942]\n",
      "step :  340 ,  cost :  0.22563647 ,  w:  [0.6482042] ,  b:  [2.1570456]\n",
      "step :  360 ,  cost :  0.21293145 ,  w:  [0.63201135] ,  b:  [2.204655]\n",
      "step :  380 ,  cost :  0.2016622 ,  w:  [0.61676073] ,  b:  [2.2494936]\n",
      "step :  400 ,  cost :  0.19166675 ,  w:  [0.602398] ,  b:  [2.2917218]\n",
      "step :  420 ,  cost :  0.1828012 ,  w:  [0.5888712] ,  b:  [2.331492]\n",
      "step :  440 ,  cost :  0.17493746 ,  w:  [0.57613176] ,  b:  [2.3689475]\n",
      "step :  460 ,  cost :  0.16796246 ,  w:  [0.5641338] ,  b:  [2.404223]\n",
      "step :  480 ,  cost :  0.16177586 ,  w:  [0.5528341] ,  b:  [2.4374456]\n",
      "step :  500 ,  cost :  0.15628847 ,  w:  [0.5421921] ,  b:  [2.4687343]\n",
      "step :  520 ,  cost :  0.15142132 ,  w:  [0.53216964] ,  b:  [2.4982014]\n",
      "step :  540 ,  cost :  0.14710434 ,  w:  [0.5227305] ,  b:  [2.5259535]\n",
      "step :  560 ,  cost :  0.14327514 ,  w:  [0.51384085] ,  b:  [2.552091]\n",
      "step :  580 ,  cost :  0.13987876 ,  w:  [0.5054683] ,  b:  [2.576707]\n",
      "step :  600 ,  cost :  0.13686611 ,  w:  [0.4975832] ,  b:  [2.59989]\n",
      "step :  620 ,  cost :  0.13419421 ,  w:  [0.49015728] ,  b:  [2.6217232]\n",
      "step :  640 ,  cost :  0.13182423 ,  w:  [0.48316357] ,  b:  [2.6422853]\n",
      "step :  660 ,  cost :  0.12972207 ,  w:  [0.4765769] ,  b:  [2.661651]\n",
      "step :  680 ,  cost :  0.1278575 ,  w:  [0.4703735] ,  b:  [2.6798897]\n",
      "step :  700 ,  cost :  0.1262037 ,  w:  [0.46453106] ,  b:  [2.6970673]\n",
      "step :  720 ,  cost :  0.12473671 ,  w:  [0.45902878] ,  b:  [2.713245]\n",
      "step :  740 ,  cost :  0.12343567 ,  w:  [0.4538468] ,  b:  [2.72848]\n",
      "step :  760 ,  cost :  0.122281566 ,  w:  [0.44896653] ,  b:  [2.7428286]\n",
      "step :  780 ,  cost :  0.121258035 ,  w:  [0.4443704] ,  b:  [2.756342]\n",
      "step :  800 ,  cost :  0.12035004 ,  w:  [0.4400415] ,  b:  [2.7690694]\n",
      "step :  820 ,  cost :  0.119544834 ,  w:  [0.4359647] ,  b:  [2.7810557]\n",
      "step :  840 ,  cost :  0.11883057 ,  w:  [0.43212536] ,  b:  [2.7923436]\n",
      "step :  860 ,  cost :  0.11819702 ,  w:  [0.42850935] ,  b:  [2.8029754]\n",
      "step :  880 ,  cost :  0.11763503 ,  w:  [0.4251038] ,  b:  [2.8129883]\n",
      "step :  900 ,  cost :  0.117136605 ,  w:  [0.42189658] ,  b:  [2.8224177]\n",
      "step :  920 ,  cost :  0.116694495 ,  w:  [0.4188759] ,  b:  [2.8312988]\n",
      "step :  940 ,  cost :  0.11630235 ,  w:  [0.41603106] ,  b:  [2.8396633]\n",
      "step :  960 ,  cost :  0.11595452 ,  w:  [0.41335195] ,  b:  [2.84754]\n",
      "step :  980 ,  cost :  0.115646064 ,  w:  [0.41082862] ,  b:  [2.8549588]\n",
      "step :  1000 ,  cost :  0.115372494 ,  w:  [0.40845227] ,  b:  [2.8619454]\n",
      "step :  1020 ,  cost :  0.11512969 ,  w:  [0.40621424] ,  b:  [2.8685255]\n",
      "step :  1040 ,  cost :  0.11491441 ,  w:  [0.40410653] ,  b:  [2.8747227]\n",
      "step :  1060 ,  cost :  0.114723474 ,  w:  [0.4021214] ,  b:  [2.880559]\n",
      "step :  1080 ,  cost :  0.114554204 ,  w:  [0.40025192] ,  b:  [2.8860557]\n",
      "step :  1100 ,  cost :  0.11440391 ,  w:  [0.39849105] ,  b:  [2.8912327]\n",
      "step :  1120 ,  cost :  0.11427068 ,  w:  [0.39683267] ,  b:  [2.896109]\n",
      "step :  1140 ,  cost :  0.11415243 ,  w:  [0.39527065] ,  b:  [2.9007013]\n",
      "step :  1160 ,  cost :  0.11404762 ,  w:  [0.39379978] ,  b:  [2.9050257]\n",
      "step :  1180 ,  cost :  0.11395463 ,  w:  [0.39241454] ,  b:  [2.9090986]\n",
      "step :  1200 ,  cost :  0.11387212 ,  w:  [0.39110976] ,  b:  [2.9129348]\n",
      "step :  1220 ,  cost :  0.11379904 ,  w:  [0.38988113] ,  b:  [2.916547]\n",
      "step :  1240 ,  cost :  0.11373415 ,  w:  [0.38872394] ,  b:  [2.9199493]\n",
      "step :  1260 ,  cost :  0.113676585 ,  w:  [0.38763413] ,  b:  [2.9231536]\n",
      "step :  1280 ,  cost :  0.113625534 ,  w:  [0.3866077] ,  b:  [2.9261713]\n",
      "step :  1300 ,  cost :  0.11358022 ,  w:  [0.38564116] ,  b:  [2.929013]\n",
      "step :  1320 ,  cost :  0.11354008 ,  w:  [0.38473085] ,  b:  [2.9316895]\n",
      "step :  1340 ,  cost :  0.11350454 ,  w:  [0.38387346] ,  b:  [2.9342103]\n",
      "step :  1360 ,  cost :  0.11347285 ,  w:  [0.3830658] ,  b:  [2.936585]\n",
      "step :  1380 ,  cost :  0.11344485 ,  w:  [0.38230523] ,  b:  [2.938821]\n",
      "step :  1400 ,  cost :  0.11341995 ,  w:  [0.38158894] ,  b:  [2.940927]\n",
      "step :  1420 ,  cost :  0.113397956 ,  w:  [0.38091445] ,  b:  [2.9429102]\n",
      "step :  1440 ,  cost :  0.113378465 ,  w:  [0.38027912] ,  b:  [2.9447782]\n",
      "step :  1460 ,  cost :  0.113361046 ,  w:  [0.37968084] ,  b:  [2.9465373]\n",
      "step :  1480 ,  cost :  0.11334569 ,  w:  [0.37911734] ,  b:  [2.9481943]\n",
      "step :  1500 ,  cost :  0.11333199 ,  w:  [0.37858617] ,  b:  [2.949756]\n",
      "step :  1520 ,  cost :  0.11331995 ,  w:  [0.37808633] ,  b:  [2.951225]\n",
      "step :  1540 ,  cost :  0.11330922 ,  w:  [0.37761566] ,  b:  [2.952609]\n",
      "step :  1560 ,  cost :  0.11329966 ,  w:  [0.37717244] ,  b:  [2.9539123]\n",
      "step :  1580 ,  cost :  0.11329129 ,  w:  [0.3767549] ,  b:  [2.9551396]\n",
      "step :  1600 ,  cost :  0.113283716 ,  w:  [0.3763618] ,  b:  [2.9562955]\n",
      "step :  1620 ,  cost :  0.1132771 ,  w:  [0.37599152] ,  b:  [2.9573843]\n",
      "step :  1640 ,  cost :  0.1132712 ,  w:  [0.37564272] ,  b:  [2.9584098]\n",
      "step :  1660 ,  cost :  0.11326597 ,  w:  [0.3753143] ,  b:  [2.9593754]\n",
      "step :  1680 ,  cost :  0.1132613 ,  w:  [0.37500495] ,  b:  [2.9602847]\n",
      "step :  1700 ,  cost :  0.1132572 ,  w:  [0.3747137] ,  b:  [2.9611413]\n",
      "step :  1720 ,  cost :  0.113253586 ,  w:  [0.37443945] ,  b:  [2.9619472]\n",
      "step :  1740 ,  cost :  0.11325038 ,  w:  [0.37418112] ,  b:  [2.962707]\n",
      "step :  1760 ,  cost :  0.11324751 ,  w:  [0.37393776] ,  b:  [2.9634225]\n",
      "step :  1780 ,  cost :  0.11324496 ,  w:  [0.37370852] ,  b:  [2.9640965]\n",
      "step :  1800 ,  cost :  0.113242626 ,  w:  [0.37349266] ,  b:  [2.9647312]\n",
      "step :  1820 ,  cost :  0.11324065 ,  w:  [0.3732893] ,  b:  [2.9653292]\n",
      "step :  1840 ,  cost :  0.11323888 ,  w:  [0.37309787] ,  b:  [2.9658918]\n",
      "step :  1860 ,  cost :  0.11323731 ,  w:  [0.3729176] ,  b:  [2.9664218]\n",
      "step :  1880 ,  cost :  0.113235876 ,  w:  [0.37274778] ,  b:  [2.966921]\n",
      "step :  1900 ,  cost :  0.113234654 ,  w:  [0.37258786] ,  b:  [2.9673913]\n",
      "step :  1920 ,  cost :  0.11323355 ,  w:  [0.37243724] ,  b:  [2.9678342]\n",
      "step :  1940 ,  cost :  0.113232635 ,  w:  [0.37229535] ,  b:  [2.9682515]\n",
      "step :  1960 ,  cost :  0.11323177 ,  w:  [0.37216178] ,  b:  [2.9686441]\n",
      "step :  1980 ,  cost :  0.11323103 ,  w:  [0.37203592] ,  b:  [2.9690142]\n",
      "step :  2000 ,  cost :  0.113230325 ,  w:  [0.37191743] ,  b:  [2.9693625]\n"
     ]
    }
   ],
   "source": [
    "for step in range(2001):\n",
    "    cost_val, w_val, b_val, _ = sess.run([cost,w,b,train],\n",
    "                                        feed_dict={x:[1,2,3,4], y:[3.58, 3.19, 4.43, 4.4]})\n",
    "    if step % 20 == 0:\n",
    "        print(\"step : \", step,\",  cost : \", cost_val,\",  w: \", w_val,\",  b: \", b_val)"
   ]
  },
  {
   "cell_type": "code",
   "execution_count": 57,
   "metadata": {},
   "outputs": [
    {
     "name": "stdout",
     "output_type": "stream",
     "text": [
      "[4.82895]\n"
     ]
    }
   ],
   "source": [
    "print(sess.run(hypothesis, feed_dict = {x: [5]}))"
   ]
  },
  {
   "cell_type": "code",
   "execution_count": null,
   "metadata": {},
   "outputs": [],
   "source": []
  }
 ],
 "metadata": {
  "kernelspec": {
   "display_name": "Python 3",
   "language": "python",
   "name": "python3"
  },
  "language_info": {
   "codemirror_mode": {
    "name": "ipython",
    "version": 3
   },
   "file_extension": ".py",
   "mimetype": "text/x-python",
   "name": "python",
   "nbconvert_exporter": "python",
   "pygments_lexer": "ipython3",
   "version": "3.6.6"
  }
 },
 "nbformat": 4,
 "nbformat_minor": 2
}
